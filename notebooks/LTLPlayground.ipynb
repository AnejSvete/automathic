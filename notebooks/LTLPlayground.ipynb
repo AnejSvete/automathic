{
 "cells": [
  {
   "cell_type": "code",
   "execution_count": 1,
   "metadata": {},
   "outputs": [],
   "source": [
    "from automathic.ltl.parser import parse_ltl"
   ]
  },
  {
   "cell_type": "code",
   "execution_count": 2,
   "metadata": {},
   "outputs": [],
   "source": [
    "φ_ = \"Qa S Qb\""
   ]
  },
  {
   "cell_type": "code",
   "execution_count": 3,
   "metadata": {},
   "outputs": [],
   "source": [
    "φ = parse_ltl(φ_)"
   ]
  },
  {
   "cell_type": "code",
   "execution_count": 4,
   "metadata": {},
   "outputs": [
    {
     "data": {
      "text/html": [
       "\n",
       "            <style>\n",
       "            .formula-tree {\n",
       "                font-family: 'Consolas', 'Courier New', monospace;\n",
       "                line-height: 1.4;\n",
       "            }\n",
       "            .formula-node {\n",
       "                position: relative;\n",
       "                margin: 2px 0;\n",
       "            }\n",
       "            .node-content {\n",
       "                display: inline-block;\n",
       "                padding: 2px 6px;\n",
       "                border-radius: 3px;\n",
       "            }\n",
       "            .node-operator {\n",
       "                font-weight: bold;\n",
       "            }\n",
       "            .node-proposition {\n",
       "                background-color: #e6ffe6;\n",
       "                color: #006600;\n",
       "            }\n",
       "            .node-boolean {\n",
       "                background-color: #e6f3ff;\n",
       "                color: #0066cc;\n",
       "                font-weight: bold;\n",
       "            }\n",
       "            .node-conjunction {\n",
       "                background-color: #fff0e6;\n",
       "                color: #cc6600;\n",
       "                font-weight: bold;\n",
       "            }\n",
       "            .node-disjunction {\n",
       "                background-color: #fff0e6;\n",
       "                color: #cc6600;\n",
       "                font-weight: bold;\n",
       "            }\n",
       "            .node-implication {\n",
       "                background-color: #f0e6ff;\n",
       "                color: #6600cc;\n",
       "                font-weight: bold;\n",
       "            }\n",
       "            .node-equivalence {\n",
       "                background-color: #e6f0ff;\n",
       "                color: #0066cc;\n",
       "                font-weight: bold;\n",
       "            }\n",
       "            .node-negation {\n",
       "                background-color: #ffe6e6;\n",
       "                color: #cc0000;\n",
       "                font-weight: bold;\n",
       "            }\n",
       "            .node-temporal {\n",
       "                background-color: #e6ffff;\n",
       "                color: #006666;\n",
       "                font-weight: bold;\n",
       "            }\n",
       "            .node-children {\n",
       "                margin-left: 20px;\n",
       "                padding-left: 10px;\n",
       "                border-left: 1px solid #ccc;\n",
       "            }\n",
       "            .tree-line {\n",
       "                color: #999;\n",
       "                margin-right: 5px;\n",
       "                font-size: 0.9em;\n",
       "            }\n",
       "            </style>\n",
       "            <div class=\"formula-tree\">\n",
       "        <div class=\"formula-node\">\n",
       "            <span class=\"node-content node-temporal\">S (SINCE)</span>\n",
       "            <div class=\"node-children\">\n",
       "                <span class=\"tree-line\">├─ </span><div class=\"formula-node\" style=\"margin-bottom: 6px;\"><span class=\"node-content node-proposition\">Qa</span></div>\n",
       "                <span class=\"tree-line\">└─ </span><div class=\"formula-node\"><span class=\"node-content node-proposition\">Qb</span></div>\n",
       "            </div>\n",
       "        </div>\n",
       "        </div>"
      ],
      "text/plain": [
       "Since(left=SymbolPredicate(symbol='a'), right=SymbolPredicate(symbol='b'))"
      ]
     },
     "execution_count": 4,
     "metadata": {},
     "output_type": "execute_result"
    }
   ],
   "source": [
    "φ"
   ]
  },
  {
   "cell_type": "code",
   "execution_count": 5,
   "metadata": {},
   "outputs": [
    {
     "name": "stdout",
     "output_type": "stream",
     "text": [
      "\u001b[1m(\u001b[0mQa S Qb\u001b[1m)\u001b[0m\n"
     ]
    }
   ],
   "source": [
    "print(φ)"
   ]
  },
  {
   "cell_type": "code",
   "execution_count": 6,
   "metadata": {},
   "outputs": [
    {
     "data": {
      "text/html": [
       "<code>Empty FSA</code>"
      ],
      "text/plain": [
       "<automathic.fsa.fsa.FiniteStateAutomaton at 0x1046b0810>"
      ]
     },
     "execution_count": 6,
     "metadata": {},
     "output_type": "execute_result"
    }
   ],
   "source": [
    "φ.to_fsa()"
   ]
  },
  {
   "cell_type": "code",
   "execution_count": 7,
   "metadata": {},
   "outputs": [
    {
     "data": {
      "text/plain": [
       "automathic.ltl.formula.SymbolPredicate"
      ]
     },
     "execution_count": 7,
     "metadata": {},
     "output_type": "execute_result"
    }
   ],
   "source": [
    "type(φ.right)"
   ]
  },
  {
   "cell_type": "code",
   "execution_count": 8,
   "metadata": {},
   "outputs": [
    {
     "ename": "AttributeError",
     "evalue": "'SymbolPredicate' object has no attribute 'name'",
     "output_type": "error",
     "traceback": [
      "\u001b[0;31m---------------------------------------------------------------------------\u001b[0m",
      "\u001b[0;31mAttributeError\u001b[0m                            Traceback (most recent call last)",
      "Cell \u001b[0;32mIn[8], line 1\u001b[0m\n\u001b[0;32m----> 1\u001b[0m φ\u001b[38;5;241m.\u001b[39mright\u001b[38;5;241m.\u001b[39mname\n",
      "\u001b[0;31mAttributeError\u001b[0m: 'SymbolPredicate' object has no attribute 'name'"
     ]
    }
   ],
   "source": [
    "φ.right.name"
   ]
  },
  {
   "cell_type": "code",
   "execution_count": null,
   "metadata": {},
   "outputs": [],
   "source": []
  }
 ],
 "metadata": {
  "kernelspec": {
   "display_name": "fo",
   "language": "python",
   "name": "python3"
  },
  "language_info": {
   "codemirror_mode": {
    "name": "ipython",
    "version": 3
   },
   "file_extension": ".py",
   "mimetype": "text/x-python",
   "name": "python",
   "nbconvert_exporter": "python",
   "pygments_lexer": "ipython3",
   "version": "3.11.11"
  }
 },
 "nbformat": 4,
 "nbformat_minor": 2
}
